{
  "nbformat": 4,
  "nbformat_minor": 0,
  "metadata": {
    "colab": {
      "private_outputs": true,
      "provenance": [],
      "authorship_tag": "ABX9TyPLsIK9nJ4eO4hAGkoo66Me",
      "include_colab_link": true
    },
    "kernelspec": {
      "name": "python3",
      "display_name": "Python 3"
    },
    "language_info": {
      "name": "python"
    }
  },
  "cells": [
    {
      "cell_type": "markdown",
      "metadata": {
        "id": "view-in-github",
        "colab_type": "text"
      },
      "source": [
        "<a href=\"https://colab.research.google.com/github/AnahitSh/proj-ds/blob/main/Breast_Cancer_Detection.ipynb\" target=\"_parent\"><img src=\"https://colab.research.google.com/assets/colab-badge.svg\" alt=\"Open In Colab\"/></a>"
      ]
    },
    {
      "cell_type": "markdown",
      "source": [
        "Breast Cancer Detection\n",
        "\n",
        "According to the American Cancer Society (n.d.), breast cancer is the second-most common type of cancer diagnosed in American women, behind only skin cancers. The average risk of an American woman developing breast cancer sometime in her life is about 13%. This means there is a 1 in 8 chance she will eventually develop breast cancer.\n",
        "\n",
        "Mammograms are used to detect breast cancer—hopefully at an early stage. However, many masses that appear on a mammogram are not actually cancerous. Developing a machine learning model to predict whether a tumor is benign or cancerous would be helpful for physicians as they guide and treat patients.\n",
        "\n",
        "In this module, we wll use decision tree–based methods to classify the tumors as benign or malignant. You'll learn if this model does a better or worse job classifying the tumors compared to previous models you've tried."
      ],
      "metadata": {
        "id": "iVgkpvVgph5e"
      }
    },
    {
      "cell_type": "code",
      "execution_count": null,
      "metadata": {
        "id": "z_8YDCgXpeIf"
      },
      "outputs": [],
      "source": [
        "# Let's upload the cancer.csv data set\n",
        "\n",
        "from google.colab import files\n",
        "cancer = files.upload()"
      ]
    },
    {
      "cell_type": "code",
      "source": [
        "# Importing necessary packages\n",
        "\n",
        "import pandas as pd\n",
        "import numpy as np\n",
        "import matplotlib.pyplot as plt\n",
        "from sklearn.model_selection import train_test_split\n",
        "from sklearn.impute import SimpleImputer\n",
        "from sklearn.preprocessing import StandardScaler\n",
        "from sklearn.pipeline import Pipeline\n",
        "from sklearn.model_selection import cross_val_score\n",
        "from sklearn import tree\n",
        "from sklearn.tree import DecisionTreeClassifier\n",
        "from sklearn.ensemble import RandomForestClassifier\n",
        "import graphviz"
      ],
      "metadata": {
        "id": "TaE141LPqM7Z"
      },
      "execution_count": null,
      "outputs": []
    },
    {
      "cell_type": "code",
      "source": [
        "# let's create a Pandas Dataframe from the CSV file, name it cancer, and print first five observations\n",
        "\n",
        "cancer = pd.read_csv('/content/cancer.csv')\n",
        "cancer.head(5)\n"
      ],
      "metadata": {
        "id": "VcdTqsw2rdwA"
      },
      "execution_count": null,
      "outputs": []
    },
    {
      "cell_type": "code",
      "source": [
        "# Converting the Variable Diagnosis into a numeric data type\n",
        "\n",
        "cancer.loc[cancer['diagnosis'] == 'M', 'cancer_present'] = 1\n",
        "cancer.loc[cancer['diagnosis'] == 'B', 'cancer_present'] = 0"
      ],
      "metadata": {
        "id": "ixBan-FMr96p"
      },
      "execution_count": null,
      "outputs": []
    },
    {
      "cell_type": "markdown",
      "source": [
        "Spliting data into the Target Variable and Feature of Interest.\n",
        "\n",
        "The goal is to predict whether a tumor is benign or malignant (cancer_present) using the mean tumor perimeter measure (perimeter_mean)."
      ],
      "metadata": {
        "id": "zeGkO_5Zsuua"
      }
    },
    {
      "cell_type": "code",
      "source": [
        "X = cancer.drop([\"id\", \"diagnosis\", \"cancer_present\"], axis = 1)\n",
        "y = cancer['cancer_present']"
      ],
      "metadata": {
        "id": "5aD4g4srsVy_"
      },
      "execution_count": null,
      "outputs": []
    },
    {
      "cell_type": "code",
      "source": [
        "# Let's split data into a training data set and a test data set\n",
        "\n",
        "X_train, X_test, y_train, y_test = train_test_split(X, y, test_size=0.25, random_state=42)"
      ],
      "metadata": {
        "id": "9NmcY_3ZtGHO"
      },
      "execution_count": null,
      "outputs": []
    },
    {
      "cell_type": "markdown",
      "source": [
        "We will build a Pipline that will impute standardize the data and fit a Decision Tree Classifier that split based on entropy."
      ],
      "metadata": {
        "id": "0JocqEmRt8kx"
      }
    },
    {
      "cell_type": "code",
      "source": [
        "tree1 = Pipeline([\n",
        "    ('impute',SimpleImputer(missing_values=np.nan, strategy='mean')),\n",
        "    ('scaler',StandardScaler()),\n",
        "    ('tree',DecisionTreeClassifier(criterion='entropy',random_state=42))])\n",
        "\n",
        "tree1.fit(X_train, y_train)"
      ],
      "metadata": {
        "id": "1SzZcthatxUk"
      },
      "execution_count": null,
      "outputs": []
    },
    {
      "cell_type": "code",
      "source": [
        "# evaluating the Pipline using 10-fold Cross-Validation\n",
        "\n",
        "scores = cross_val_score(tree1, X_train, y_train, cv=10)\n",
        "\n",
        "print(\"The mean of the cross val is\",scores.mean())\n",
        "print(\"The standard deviation od the cross val is\",scores.std())"
      ],
      "metadata": {
        "id": "qFG925zKt1T7"
      },
      "execution_count": null,
      "outputs": []
    },
    {
      "cell_type": "markdown",
      "source": [
        " The data suggests that the model is performing fairly well in predicting cancer malignancy in male patients, with a mean accuracy of around 89.4%, and the results are relatively consistent, as indicated by a low standard deviation."
      ],
      "metadata": {
        "id": "RTC60p2Ty2_f"
      }
    },
    {
      "cell_type": "markdown",
      "source": [
        "Visualize the Decision Tree."
      ],
      "metadata": {
        "id": "4zAFQgGQwZpd"
      }
    },
    {
      "cell_type": "code",
      "source": [
        "!ls"
      ],
      "metadata": {
        "id": "_0Fm6DisvrMJ"
      },
      "execution_count": null,
      "outputs": []
    },
    {
      "cell_type": "code",
      "source": [
        "clf = tree1.named_steps['tree']"
      ],
      "metadata": {
        "id": "ER-mWGzewNSB"
      },
      "execution_count": null,
      "outputs": []
    },
    {
      "cell_type": "code",
      "source": [
        "plt.figure(figsize = (20,12))\n",
        "from sklearn.tree import plot_tree\n",
        "plot_tree(clf, feature_names=X_train.columns, class_names=X_test.columns, filled=True)"
      ],
      "metadata": {
        "id": "Ng7hlHScuo0U"
      },
      "execution_count": null,
      "outputs": []
    },
    {
      "cell_type": "markdown",
      "source": [
        "Decision tree model represented as a tree diagram, where each node corresponds to a decision rule based on a feature, and each leaf node represents the predicted class. The colors of the nodes will indicate the majority class in that node."
      ],
      "metadata": {
        "id": "KmIZZbxYx83A"
      }
    }
  ]
}